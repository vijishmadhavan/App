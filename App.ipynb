{
  "nbformat": 4,
  "nbformat_minor": 0,
  "metadata": {
    "kernelspec": {
      "display_name": "TF2",
      "language": "python",
      "name": "tf2"
    },
    "language_info": {
      "codemirror_mode": {
        "name": "ipython",
        "version": 3
      },
      "file_extension": ".py",
      "mimetype": "text/x-python",
      "name": "python",
      "nbconvert_exporter": "python",
      "pygments_lexer": "ipython3",
      "version": "3.7.5"
    },
    "colab": {
      "name": "App.ipynb",
      "provenance": []
    }
  },
  "cells": [
    {
      "cell_type": "code",
      "metadata": {
        "id": "HL5HhvxdKWlW"
      },
      "source": [
        "\n",
        "# classifier\n",
        "import urllib.request\n",
        "from fastai.vision import *\n",
        "\n",
        "defaults.device = torch.device('cpu')\n",
        "\n",
        "MODEL_URL = \"https://www.dropbox.com/s/axypy0nl4og9crk/export.pkl?dl=1\"\n",
        "urllib.request.urlretrieve(MODEL_URL, \"export.pkl\")\n",
        "path = Path(\".\")\n",
        "\n",
        "learner = load_learner(path, 'export.pkl')\n",
        "\n",
        "def classify(url):\n",
        "  urllib.request.urlretrieve(url, \"image.jpg\")\n",
        "  img = open_image(\"image.jpg\")\n",
        "\n",
        "  pred_class,_,probs = learner.predict(img)\n",
        "  return pred_class.obj, learner.data.classes, probs.tolist()"
      ],
      "execution_count": null,
      "outputs": []
    },
    {
      "cell_type": "code",
      "metadata": {
        "id": "MC4cEk9OMNJY"
      },
      "source": [
        "# interface\n",
        "import ipywidgets as widgets\n",
        "from IPython.display import display\n",
        "\n",
        "def classify_on_click(btn):\n",
        "  htmlResult.value = \"<h3>Analysing...</h3>\"\n",
        "  display_image(txtURL.value)\n",
        "  pred_class,classes,probs = classify(txtURL.value)\n",
        "  pred_class = pred_class.replace(\"-clown\", \"\") #because i should have named my classes better...\n",
        "\n",
        "  html = \"<div align='center'>\"\n",
        "  html += \"<h3>This clown is \" + pred_class + \"</h3>\"\n",
        "  html += \"Probilities: \" \n",
        "  html += classes[0] + \"=\" + \"{:1.2f}\".format(probs[0]) + \", \"\n",
        "  html += classes[1] + \"=\" + \"{:1.2f}\".format(probs[1]) \n",
        "  html += \"</div>\"\n",
        "  htmlResult.value = html\n",
        "\n",
        "def display_image(url):\n",
        "  htmlImage.value= \"<img src='\" + url + \"' width='300'>\"\n",
        "\n",
        "DEFAULT_IMG = \"https://drive.google.com/uc?export=download&id=157sDYNJ0Z1zGf9rv6klbYnYig5elGmpF\"\n",
        "\n",
        "htmlImage = widgets.HTML(value=\"\")\n",
        "display_image(DEFAULT_IMG)\n",
        "\n",
        "txtURL = widgets.Text(description=\"URL:\", placeholder=\"Enter the URL of a clown picture\")\n",
        "txtURL.layout.width = \"500px\"\n",
        "btnClassify = widgets.Button(description=\"Classify\")\n",
        "btnClassify.on_click(classify_on_click)\n",
        "boxH = widgets.HBox([txtURL, btnClassify])\n",
        "\n",
        "htmlResult = widgets.HTML(value=\"<h3>I fed clowns to a fastai convnet. They tasted funny.</h3>\")\n",
        "htmlResult.layout.margin = \"0px 0px 40px 0px\"\n",
        "\n",
        "boxV = widgets.VBox([htmlImage, boxH, htmlResult])\n",
        "\n",
        "boxV.layout.align_items = \"center\"\n",
        "display(boxV)\n",
        "\n",
        "# give them some examples to play with without getting urls\n",
        "def example_on_click(btn):\n",
        "  txtURL.value = btn.tag\n",
        "  classify_on_click(btnClassify)\n",
        "\n",
        "def create_example(url):\n",
        "  img = widgets.HTML(\"<img src='\" + url + \"' height='100'>\")\n",
        "  btn = widgets.Button(description=\"Test\")\n",
        "  btn.tag = url\n",
        "  btn.on_click(example_on_click)\n",
        "  vbox = widgets.VBox([img,btn])\n",
        "  vbox.layout.align_items = \"center\"\n",
        "  return vbox\n",
        "\n",
        "urls = [\n",
        "  \"https://image.freepik.com/free-photo/portrait-white-man-isolated_53876-40306.jpg\", \n",
        "  \"https://image.freepik.com/free-photo/close-up-view-pleased-young-blonde-woman_141793-116583.jpg\",\n",
        "  \"https://image.freepik.com/free-photo/close-up-shot-pretty-woman-with-perfect-teeth-dark-clean-skin-having-rest-indoors-smiling-happily-after-received-good-positive-news_273609-1248.jpg\",\n",
        "  ]\n",
        "  \n",
        "items = []\n",
        "for url in urls:\n",
        "    items.append(create_example(url))\n",
        "\n",
        "grid = widgets.GridBox(items, layout=widgets.Layout(grid_template_columns=\"repeat(3, 33%)\"))\n",
        "display(grid)"
      ],
      "execution_count": null,
      "outputs": []
    }
  ]
}