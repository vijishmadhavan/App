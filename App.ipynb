{
  "nbformat": 4,
  "nbformat_minor": 0,
  "metadata": {
    "kernelspec": {
      "display_name": "TF2",
      "language": "python",
      "name": "tf2"
    },
    "language_info": {
      "codemirror_mode": {
        "name": "ipython",
        "version": 3
      },
      "file_extension": ".py",
      "mimetype": "text/x-python",
      "name": "python",
      "nbconvert_exporter": "python",
      "pygments_lexer": "ipython3",
      "version": "3.7.5"
    },
    "colab": {
      "name": "App.ipynb",
      "provenance": []
    }
  },
  "cells": [
    {
      "cell_type": "code",
      "metadata": {
        "id": "HL5HhvxdKWlW"
      },
      "source": [
        "# Imports\n",
        "\n",
        "from fastai.vision.all import *\n",
        "from fastai.vision.widgets import *\n",
        "import urllib.request"
      ],
      "execution_count": null,
      "outputs": []
    },
    {
      "cell_type": "code",
      "metadata": {
        "id": "aCV6f_dXKWlb"
      },
      "source": [
        "# Load model\n",
        "\n",
        "MODEL_URL = \"https://www.dropbox.com/s/axypy0nl4og9crk/export.pkl?dl=1\"\n",
        "urllib.request.urlretrieve(MODEL_URL, \"export.pkl\")\n",
        "\n",
        "\n",
        "path = Path(\".\")\n",
        "\n",
        "learn_inf=load_learner(path, 'export.pkl')\n",
        "\n",
        "btn_upload = widgets.FileUpload()\n",
        "out_pl = widgets.Output()\n",
        "lbl_pred = widgets.Label()"
      ],
      "execution_count": null,
      "outputs": []
    },
    {
      "cell_type": "code",
      "metadata": {
        "id": "MC4cEk9OMNJY"
      },
      "source": [
        ""
      ],
      "execution_count": null,
      "outputs": []
    },
    {
      "cell_type": "code",
      "metadata": {
        "id": "kOJ5HWTtKWld"
      },
      "source": [
        "# Create interface\n",
        "\n",
        "def on_data_change(change):\n",
        "    lbl_pred.value = ''\n",
        "    \n",
        "    # Load Image\n",
        "    img = PILImage.create(btn_upload.data[-1])\n",
        "    out_pl.clear_output()\n",
        "    with out_pl:\n",
        "        display(img.to_thumb(224,244))\n",
        "    \n",
        "    # Predict image\n",
        "    pred, pred_idx, probs = learn_inf.predict(img)\n",
        "    \n",
        "    lbl_pred.value = f'Prediction: {pred}; Probability: {probs[pred_idx]:.04f}'"
      ],
      "execution_count": null,
      "outputs": []
    },
    {
      "cell_type": "code",
      "metadata": {
        "colab": {
          "referenced_widgets": [
            "d53775aabeaf492d8802f697c39e1156"
          ]
        },
        "id": "QsBpMs2wKWlf",
        "outputId": "af08fbe5-c5ed-4fcb-f5dc-ec78263c8410"
      },
      "source": [
        "btn_upload.observe(on_data_change, names=['data'])\n",
        "\n",
        "# Display Predictions\n",
        "display(VBox([widgets.Label('upload your image!'), btn_upload, out_pl, lbl_pred]))"
      ],
      "execution_count": null,
      "outputs": [
        {
          "output_type": "display_data",
          "data": {
            "application/vnd.jupyter.widget-view+json": {
              "model_id": "d53775aabeaf492d8802f697c39e1156",
              "version_major": 2,
              "version_minor": 0
            },
            "text/plain": [
              "VBox(children=(Label(value='Select your bear!'), FileUpload(value={}, description='Upload'), Output(), Label(v…"
            ]
          },
          "metadata": {
            "tags": []
          }
        },
        {
          "output_type": "display_data",
          "data": {
            "text/html": [
              ""
            ],
            "text/plain": [
              "<IPython.core.display.HTML object>"
            ]
          },
          "metadata": {
            "tags": []
          }
        }
      ]
    }
  ]
}