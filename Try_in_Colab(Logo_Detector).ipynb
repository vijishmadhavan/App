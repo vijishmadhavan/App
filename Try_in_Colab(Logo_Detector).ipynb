{
  "nbformat": 4,
  "nbformat_minor": 0,
  "metadata": {
    "colab": {
      "name": "Try in Colab(Logo Detector).ipynb",
      "provenance": [],
      "authorship_tag": "ABX9TyPZN1Oww/HROf169nUpnOmj",
      "include_colab_link": true
    },
    "kernelspec": {
      "name": "python3",
      "display_name": "Python 3"
    },
    "language_info": {
      "name": "python"
    }
  },
  "cells": [
    {
      "cell_type": "markdown",
      "metadata": {
        "id": "view-in-github",
        "colab_type": "text"
      },
      "source": [
        "<a href=\"https://colab.research.google.com/github/vijishmadhavan/App/blob/master/Try_in_Colab(Logo_Detector).ipynb\" target=\"_parent\"><img src=\"https://colab.research.google.com/assets/colab-badge.svg\" alt=\"Open In Colab\"/></a>"
      ]
    },
    {
      "cell_type": "code",
      "metadata": {
        "cellView": "form",
        "id": "SgJ7zcRp2_rU"
      },
      "source": [
        "#@title Download Model\n",
        "\n",
        "!wget https://www.dropbox.com/s/bdzd3vwj4qzoqk2/Logo.pt\n"
      ],
      "execution_count": null,
      "outputs": []
    },
    {
      "cell_type": "code",
      "metadata": {
        "cellView": "form",
        "id": "5r2zYoDv3T07"
      },
      "source": [
        "#@title Clone\n",
        "# clone YOLOv5 repository\n",
        "!git clone https://github.com/ultralytics/yolov5  # clone repo\n",
        "%cd yolov5\n",
        "!git reset --hard 886f1c03d839575afecb059accf74296fad395b6\n",
        "\n",
        "import warnings\n",
        "warnings.filterwarnings(\"ignore\")\n",
        "\n",
        "!pip install -qr requirements.txt  # install dependencies (ignore errors)\n",
        "import torch\n",
        "import urllib.request\n",
        "import requests \n",
        "from fastai.vision import *\n",
        "\n",
        "from IPython.display import Image, clear_output  # to display images\n",
        "from utils.google_utils import gdrive_download  # to download models/datasets\n",
        "\n"
      ],
      "execution_count": null,
      "outputs": []
    },
    {
      "cell_type": "code",
      "metadata": {
        "cellView": "form",
        "id": "nN0hD7Ob4FVb"
      },
      "source": [
        "\n",
        "url = 'https://thumbs.dreamstime.com/b/nakhon-ratchasima-thailand-february-adidas-store-selling-products-clothes-shoes-bags-more-224719489.jpg' #@param {type:\"string\"}\n",
        "\n",
        "response = requests.get(url)\n",
        "img1 = PIL.Image.open(BytesIO(response.content)).convert(\"RGB\")\n",
        "img = img1.save(\"test.jpg\")\n",
        "img = open_image('test.jpg')\n"
      ],
      "execution_count": 55,
      "outputs": []
    },
    {
      "cell_type": "markdown",
      "metadata": {
        "id": "QhUGoz2QRp3i"
      },
      "source": [
        "**Some Links to try**\n",
        "https://rb.gy/58yfjb\n",
        "\n"
      ]
    },
    {
      "cell_type": "code",
      "metadata": {
        "id": "I5Pme13v26as"
      },
      "source": [
        "\n",
        "%cd /content/yolov5/\n",
        "!python detect.py --weights ../Logo.pt --img 416 --conf 0.4 --source test.jpg"
      ],
      "execution_count": null,
      "outputs": []
    },
    {
      "cell_type": "code",
      "metadata": {
        "id": "ObYxv5444iIF"
      },
      "source": [
        "import glob\n",
        "from IPython.display import Image, display\n",
        "\n",
        "for imageName in glob.glob('/content/yolov5/runs/detect/exp/*.jpg'): #assuming JPG\n",
        "    display(Image(filename=imageName))\n",
        "    print(\"\\n\")"
      ],
      "execution_count": null,
      "outputs": []
    }
  ]
}