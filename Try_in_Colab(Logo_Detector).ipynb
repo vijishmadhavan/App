{
  "nbformat": 4,
  "nbformat_minor": 0,
  "metadata": {
    "colab": {
      "name": "Try in Colab(Logo Detector).ipynb",
      "provenance": [],
      "machine_shape": "hm",
      "authorship_tag": "ABX9TyNZgwiF+g4lFT6d0h9rV2EM",
      "include_colab_link": true
    },
    "kernelspec": {
      "name": "python3",
      "display_name": "Python 3"
    },
    "language_info": {
      "name": "python"
    }
  },
  "cells": [
    {
      "cell_type": "markdown",
      "metadata": {
        "id": "view-in-github",
        "colab_type": "text"
      },
      "source": [
        "<a href=\"https://colab.research.google.com/github/vijishmadhavan/App/blob/master/Try_in_Colab(Logo_Detector).ipynb\" target=\"_parent\"><img src=\"https://colab.research.google.com/assets/colab-badge.svg\" alt=\"Open In Colab\"/></a>"
      ]
    },
    {
      "cell_type": "markdown",
      "metadata": {
        "id": "QhUGoz2QRp3i"
      },
      "source": [
        "**Some Links to try**\n",
        "https://rb.gy/58yfjb\n",
        "\n"
      ]
    },
    {
      "cell_type": "code",
      "metadata": {
        "cellView": "form",
        "id": "hOB-SDGTtkUh"
      },
      "source": [
        "#@title Install requirements\n",
        "%%capture\n",
        "!pip install -r https://raw.githubusercontent.com/ultralytics/yolov5/master/requirements.txt\n"
      ],
      "execution_count": 1,
      "outputs": []
    },
    {
      "cell_type": "code",
      "metadata": {
        "cellView": "form",
        "id": "trhj-URwtkXO"
      },
      "source": [
        "#@title Download Model\n",
        "%%capture\n",
        "!wget https://www.dropbox.com/s/qniiqf7u8stwfbq/best.pt"
      ],
      "execution_count": 2,
      "outputs": []
    },
    {
      "cell_type": "code",
      "metadata": {
        "id": "2CriCtEDu5Ua",
        "cellView": "form"
      },
      "source": [
        "url = 'https://api.time.com/wp-content/uploads/2021/04/fedex-time100-companies.jpg' #@param {type:\"string\"}\n",
        "import requests\n",
        "from PIL import Image\n",
        "from io import BytesIO\n",
        "import warnings\n",
        "import uuid\n",
        "warnings.filterwarnings(\"ignore\")\n",
        "\n",
        "response = requests.get(url)\n",
        "img1 = Image.open(BytesIO(response.content)).convert(\"RGB\")\n",
        "filename = url.split('/')[-1]\n",
        "x = str(uuid.uuid4())\n",
        "img = img1.save(x + \".jpg\")\n",
        "\n"
      ],
      "execution_count": 25,
      "outputs": []
    },
    {
      "cell_type": "code",
      "metadata": {
        "id": "k3jwfM8itkcq",
        "cellView": "form"
      },
      "source": [
        "#@title Predict\n",
        "from IPython.display import Image, display\n",
        "from PIL import Image, ImageFont\n",
        "import os\n",
        "import cv2\n",
        "import torch\n",
        "import glob\n",
        "\n",
        "# Model\n",
        "model = torch.hub.load('ultralytics/yolov5', 'custom', path='/content/best.pt', force_reload=True).autoshape()\n",
        "num_range = range(0,100)\n",
        "num_list = list(num_range)\n",
        "model.classes = num_list\n",
        "\n",
        "img = cv2.imread(img)\n",
        "\n",
        "results = model(img1)  # includes NMS\n",
        "#image_path = \"/content/\"\n",
        "#os.mkdir(image_path)\n",
        "image = results.save(\"/content/image\")\n",
        "\n",
        "from IPython.display import Image\n",
        "Image(filename='/content/image/image0.jpg')\n",
        "\n",
        "#results.save()\n",
        "\n",
        "#import glob\n",
        "#\n",
        "\n",
        "#for imageName in glob.glob('/content/runs/detect/exp/*.jpg'): #assuming JPG\n",
        "#display(Image(filename=imageName))"
      ],
      "execution_count": null,
      "outputs": []
    }
  ]
}